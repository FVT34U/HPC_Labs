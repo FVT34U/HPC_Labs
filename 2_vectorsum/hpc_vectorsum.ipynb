{
 "cells": [
  {
   "cell_type": "markdown",
   "metadata": {},
   "source": [
    "Импорт необходимых библиотек"
   ]
  },
  {
   "cell_type": "code",
   "execution_count": 178,
   "metadata": {},
   "outputs": [],
   "source": [
    "import cupy as cp\n",
    "import numpy as np\n",
    "import time\n",
    "import pandas as pd"
   ]
  },
  {
   "cell_type": "markdown",
   "metadata": {},
   "source": [
    "Класс для взаимодействия и получения результатов вычислений"
   ]
  },
  {
   "cell_type": "code",
   "execution_count": 179,
   "metadata": {},
   "outputs": [],
   "source": [
    "class CudaVecSum:\n",
    "    def __init__(self, vec_size: int, vec: cp.ndarray, pars: dict):\n",
    "        self.add_kernel = cp.RawKernel(r'''\n",
    "            extern \"C\" \n",
    "            __global__ void vecsum(const float* input, float* output, int n) {\n",
    "                int idx = blockIdx.x * blockDim.x + threadIdx.x;\n",
    "                if (idx < n) {\n",
    "                atomicAdd(&output[0], input[idx]);\n",
    "                }\n",
    "            }\n",
    "            ''',\n",
    "            \"vecsum\")\n",
    "        self.N = vec_size\n",
    "        self.vector = vec\n",
    "        self.params = pars\n",
    "        self.result = cp.zeros(1, dtype=cp.float32)\n",
    "\n",
    "    def vec_sum(self):\n",
    "        res = 0.0\n",
    "        for el in self.vector: res += el\n",
    "        return res\n",
    "\n",
    "    def get_result(self):\n",
    "        gstart = time.perf_counter()\n",
    "        result_gpu = self.add_kernel((self.params[\"gridX\"], 1),\n",
    "                                    (self.params[\"blockX\"], 1),\n",
    "                                    (self.vector, self.result, self.N))\n",
    "        gend = time.perf_counter()\n",
    "\n",
    "        csumstart = time.perf_counter()\n",
    "        result_cpu_sum = sum(self.vector)\n",
    "        csumend = time.perf_counter()\n",
    "\n",
    "        cfuncstart = time.perf_counter()\n",
    "        result_cpu_func = self.vec_sum()\n",
    "        cfuncend = time.perf_counter()\n",
    "\n",
    "        cnpstart = time.perf_counter()\n",
    "        result_cpu_np = np.sum(self.vector)\n",
    "        cnpend = time.perf_counter()\n",
    "\n",
    "        cupystart = time.perf_counter()\n",
    "        result_cupy = cp.sum(self.vector)\n",
    "        cupyend = time.perf_counter()\n",
    "\n",
    "        return {\n",
    "            \"vector size\": self.N,\n",
    "            \"parameters\": str(self.params),\n",
    "            \"gpu matched cpu sum\": str(self.result == result_cpu_sum) + \" \" + str(self.result) + \" \" + str(result_cpu_sum),\n",
    "            \"gpu matched cpu func\": str(self.result == result_cpu_func) + \" \" + str(self.result) + \" \" + str(result_cpu_func),\n",
    "            \"gpu matched cpu numpy\": str(self.result == result_cpu_np) + \" \" + str(self.result) + \" \" + str(result_cpu_np),\n",
    "            \"gpu matched cupy\": str(self.result == result_cupy) + \" \" + str(self.result) + \" \" + str(result_cupy),\n",
    "            \"gpu time\": (gend - gstart),\n",
    "            \"cpu sum time\": (csumend - csumstart),\n",
    "            \"cpu func time\": (cfuncend - cfuncstart),\n",
    "            \"cpu numpy time\": (cnpend - cnpstart),\n",
    "            \"cupy time\": (cupyend - cupystart),\n",
    "        }"
   ]
  },
  {
   "cell_type": "markdown",
   "metadata": {},
   "source": [
    "Задаваемые значения и полученные результаты для версии с подобранными значениями для grid и block"
   ]
  },
  {
   "cell_type": "code",
   "execution_count": 180,
   "metadata": {},
   "outputs": [
    {
     "name": "stdout",
     "output_type": "stream",
     "text": [
      "|    |   vector size | parameters                      | gpu matched cpu sum              | gpu matched cpu func             | gpu matched cpu numpy           | gpu matched cupy                |    gpu time |   cpu sum time |   cpu func time |   cpu numpy time |   cupy time |\n",
      "|---:|--------------:|:--------------------------------|:---------------------------------|:---------------------------------|:--------------------------------|:--------------------------------|------------:|---------------:|----------------:|-----------------:|------------:|\n",
      "|  0 |          1000 | {'gridX': 32, 'blockX': 32}     | [False] [-23.980793] -23.980791  | [False] [-23.980793] -23.980791  | [False] [-23.980793] -23.98079  | [False] [-23.980793] -23.98079  | 7.73e-05    |      0.0143505 |       0.0096166 |      7.37e-05    | 1.59e-05    |\n",
      "|  1 |          5000 | {'gridX': 128, 'blockX': 64}    | [False] [-57.918102] -57.91822   | [False] [-57.918102] -57.91822   | [False] [-57.918102] -57.91811  | [False] [-57.918102] -57.91811  | 3.38999e-05 |      0.0600761 |       0.087113  |      7.39e-05    | 1.79e-05    |\n",
      "|  2 |         10000 | {'gridX': 128, 'blockX': 128}   | [False] [-85.282196] -85.28261   | [False] [-85.282196] -85.28261   | [False] [-85.282196] -85.28229  | [False] [-85.282196] -85.28229  | 2.13999e-05 |      0.111847  |       0.0913194 |      6.3e-05     | 1.65e-05    |\n",
      "|  3 |         50000 | {'gridX': 256, 'blockX': 256}   | [False] [224.21858] 224.21861    | [False] [224.21858] 224.21861    | [False] [224.21858] 224.21912   | [False] [224.21858] 224.21912   | 2.01999e-05 |      0.558451  |       0.430353  |      6.76e-05    | 1.82001e-05 |\n",
      "|  4 |        100000 | {'gridX': 512, 'blockX': 256}   | [False] [643.6987] 643.702       | [False] [643.6987] 643.702       | [False] [643.6987] 643.70074    | [False] [643.6987] 643.70074    | 2.14998e-05 |      1.09741   |       0.860949  |      7.05e-05    | 2.52e-05    |\n",
      "|  5 |        500000 | {'gridX': 1024, 'blockX': 512}  | [False] [-104.86463] -104.861626 | [False] [-104.86463] -104.861626 | [False] [-104.86463] -104.87201 | [False] [-104.86463] -104.87201 | 2.08002e-05 |      5.53819   |       4.38644   |      8.35999e-05 | 2.07999e-05 |\n",
      "|  6 |       1000000 | {'gridX': 1024, 'blockX': 1024} | [False] [1574.311] 1574.32       | [False] [1574.311] 1574.32       | [False] [1574.311] 1574.3514    | [False] [1574.311] 1574.3514    | 2.33001e-05 |     11.19      |       8.5318    |      7.02001e-05 | 2.48e-05    |\n"
     ]
    }
   ],
   "source": [
    "size_list = [1000, 5000, 10000, 50000, 100000, 500000, 1000000]\n",
    "grid_block_list = [(32, 32), (128, 64), (128, 128), (256, 256), (512, 256), (1024, 512), (1024, 1024)]\n",
    "\n",
    "res_list = []\n",
    "\n",
    "for size, grid_block in zip(size_list, grid_block_list):\n",
    "    obj = CudaVecSum(size,\n",
    "                    cp.random.randn(size, dtype=cp.float32),\n",
    "                    {\n",
    "                        \"gridX\": grid_block[0],\n",
    "                        \"blockX\": grid_block[1],\n",
    "                    })\n",
    "    res_list.append(obj.get_result())\n",
    "\n",
    "df1 = pd.DataFrame.from_records(res_list)\n",
    "print(df1.to_markdown())"
   ]
  },
  {
   "cell_type": "markdown",
   "metadata": {},
   "source": [
    "Задаваемые значения и полученные результаты для версии с одинаковыми максимальными значениями для grid и block"
   ]
  },
  {
   "cell_type": "code",
   "execution_count": 181,
   "metadata": {},
   "outputs": [
    {
     "name": "stdout",
     "output_type": "stream",
     "text": [
      "|    |   vector size | parameters                      | gpu matched cpu sum             | gpu matched cpu func            | gpu matched cpu numpy           | gpu matched cupy                |    gpu time |   cpu sum time |   cpu func time |   cpu numpy time |   cupy time |\n",
      "|---:|--------------:|:--------------------------------|:--------------------------------|:--------------------------------|:--------------------------------|:--------------------------------|------------:|---------------:|----------------:|-----------------:|------------:|\n",
      "|  0 |          1000 | {'gridX': 1024, 'blockX': 1024} | [False] [-20.829592] -20.829573 | [False] [-20.829592] -20.829573 | [False] [-20.829592] -20.829597 | [False] [-20.829592] -20.829597 | 3.38e-05    |      0.0129546 |       0.0089493 |      6.69002e-05 | 1.49e-05    |\n",
      "|  1 |          5000 | {'gridX': 1024, 'blockX': 1024} | [False] [-61.4354] -61.435253   | [False] [-61.4354] -61.435253   | [False] [-61.4354] -61.435204   | [False] [-61.4354] -61.435204   | 2.28002e-05 |      0.057015  |       0.0436988 |      6.43001e-05 | 1.67e-05    |\n",
      "|  2 |         10000 | {'gridX': 1024, 'blockX': 1024} | [False] [-197.75992] -197.75996 | [False] [-197.75992] -197.75996 | [False] [-197.75992] -197.75998 | [False] [-197.75992] -197.75998 | 2.07999e-05 |      0.114731  |       0.0876805 |      6.84001e-05 | 1.79999e-05 |\n",
      "|  3 |         50000 | {'gridX': 1024, 'blockX': 1024} | [False] [53.345444] 53.345676   | [False] [53.345444] 53.345676   | [False] [53.345444] 53.345825   | [False] [53.345444] 53.345825   | 2.08998e-05 |      0.557744  |       0.43135   |      7.00001e-05 | 1.80001e-05 |\n",
      "|  4 |        100000 | {'gridX': 1024, 'blockX': 1024} | [False] [-97.89911] -97.89981   | [False] [-97.89911] -97.89981   | [False] [-97.89911] -97.8998    | [False] [-97.89911] -97.8998    | 2.11e-05    |      1.11883   |       0.854921  |      6.66e-05    | 1.85999e-05 |\n",
      "|  5 |        500000 | {'gridX': 1024, 'blockX': 1024} | [False] [1083.5126] 1083.5022   | [False] [1083.5126] 1083.5022   | [False] [1083.5126] 1083.5079   | [False] [1083.5126] 1083.5079   | 2.05999e-05 |      5.55017   |       4.2843    |      7.37e-05    | 1.93e-05    |\n",
      "|  6 |       1000000 | {'gridX': 1024, 'blockX': 1024} | [False] [-219.82617] -219.84259 | [False] [-219.82617] -219.84259 | [False] [-219.82617] -219.83575 | [False] [-219.82617] -219.83575 | 2.06002e-05 |     11.1418    |       8.66825   |      6.92999e-05 | 2.46e-05    |\n"
     ]
    }
   ],
   "source": [
    "size_list = [1000, 5000, 10000, 50000, 100000, 500000, 1000000]\n",
    "grid_block_list = [(1024, 1024), (1024, 1024), (1024, 1024), (1024, 1024), (1024, 1024), (1024, 1024), (1024, 1024)]\n",
    "\n",
    "res_list = []\n",
    "\n",
    "for size, grid_block in zip(size_list, grid_block_list):\n",
    "    obj = CudaVecSum(size,\n",
    "                    cp.random.randn(size, dtype=cp.float32),\n",
    "                    {\n",
    "                        \"gridX\": grid_block[0],\n",
    "                        \"blockX\": grid_block[1],\n",
    "                    })\n",
    "    res_list.append(obj.get_result())\n",
    "\n",
    "df2 = pd.DataFrame.from_records(res_list)\n",
    "print(df2.to_markdown())"
   ]
  },
  {
   "cell_type": "markdown",
   "metadata": {},
   "source": [
    "Результаты ускорений"
   ]
  },
  {
   "cell_type": "code",
   "execution_count": 213,
   "metadata": {},
   "outputs": [
    {
     "name": "stdout",
     "output_type": "stream",
     "text": [
      "|    size |   cpu sum vs gpu |   cpu func vs gpu |   cpu numpy vs gpu |   cupy vs gpu |\n",
      "|--------:|-----------------:|------------------:|-------------------:|--------------:|\n",
      "|    1000 |           185.65 |            124.41 |               0.95 |          0.21 |\n",
      "|    5000 |          1772.16 |           2569.71 |               2.18 |          0.53 |\n",
      "|   10000 |          5226.51 |           4267.28 |               2.94 |          0.77 |\n",
      "|   50000 |         27646.2  |          21304.7  |               3.35 |          0.9  |\n",
      "|  100000 |         51042.6  |          40044.5  |               3.28 |          1.17 |\n",
      "|  500000 |        266257    |         210885    |               4.02 |          1    |\n",
      "| 1000000 |        480257    |         366171    |               3.01 |          1.06 |\n"
     ]
    }
   ],
   "source": [
    "perf_rate_1 = pd.DataFrame({\n",
    "    \"size\": size_list,\n",
    "    \"cpu sum vs gpu\": (df1[\"cpu sum time\"] / df1[\"gpu time\"]).apply('{:.2f}'.format),\n",
    "    \"cpu func vs gpu\": (df1[\"cpu func time\"] / df1[\"gpu time\"]).apply('{:.2f}'.format),\n",
    "    \"cpu numpy vs gpu\": (df1[\"cpu numpy time\"] / df1[\"gpu time\"]).apply('{:.2f}'.format),\n",
    "    \"cupy vs gpu\": (df1[\"cupy time\"] / df1[\"gpu time\"]).apply('{:.2f}'.format),\n",
    "    })\n",
    "\n",
    "print(perf_rate_1.to_markdown(index=False))"
   ]
  },
  {
   "cell_type": "markdown",
   "metadata": {},
   "source": [
    "Результаты ускорений"
   ]
  },
  {
   "cell_type": "code",
   "execution_count": 214,
   "metadata": {},
   "outputs": [
    {
     "name": "stdout",
     "output_type": "stream",
     "text": [
      "|    size |   cpu sum vs gpu |   cpu func vs gpu |   cpu numpy vs gpu |   cupy vs gpu |\n",
      "|--------:|-----------------:|------------------:|-------------------:|--------------:|\n",
      "|    1000 |           383.27 |            264.77 |               1.98 |          0.44 |\n",
      "|    5000 |          2500.64 |           1916.6  |               2.82 |          0.73 |\n",
      "|   10000 |          5515.95 |           4215.42 |               3.29 |          0.87 |\n",
      "|   50000 |         26686.6  |          20638.9  |               3.35 |          0.86 |\n",
      "|  100000 |         53025    |          40517.5  |               3.16 |          0.88 |\n",
      "|  500000 |        269427    |         207976    |               3.58 |          0.94 |\n",
      "| 1000000 |        540862    |         420786    |               3.36 |          1.19 |\n"
     ]
    }
   ],
   "source": [
    "perf_rate_2 = pd.DataFrame({\n",
    "    \"size\": size_list,\n",
    "    \"cpu sum vs gpu\": (df2[\"cpu sum time\"] / df2[\"gpu time\"]).apply('{:.2f}'.format),\n",
    "    \"cpu func vs gpu\": (df2[\"cpu func time\"] / df2[\"gpu time\"]).apply('{:.2f}'.format),\n",
    "    \"cpu numpy vs gpu\": (df2[\"cpu numpy time\"] / df2[\"gpu time\"]).apply('{:.2f}'.format),\n",
    "    \"cupy vs gpu\": (df2[\"cupy time\"] / df2[\"gpu time\"]).apply('{:.2f}'.format),\n",
    "    })\n",
    "\n",
    "print(perf_rate_2.to_markdown(index=False))"
   ]
  }
 ],
 "metadata": {
  "kernelspec": {
   "display_name": "Python 3",
   "language": "python",
   "name": "python3"
  },
  "language_info": {
   "codemirror_mode": {
    "name": "ipython",
    "version": 3
   },
   "file_extension": ".py",
   "mimetype": "text/x-python",
   "name": "python",
   "nbconvert_exporter": "python",
   "pygments_lexer": "ipython3",
   "version": "3.11.1"
  }
 },
 "nbformat": 4,
 "nbformat_minor": 2
}
