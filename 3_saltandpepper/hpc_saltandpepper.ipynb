{
 "cells": [
  {
   "cell_type": "code",
   "execution_count": 13,
   "metadata": {},
   "outputs": [],
   "source": [
    "import numpy as np\n",
    "from PIL import Image\n",
    "import cupy as cp\n",
    "import time\n",
    "import pandas as pd\n",
    "from scipy.signal import medfilt2d"
   ]
  },
  {
   "cell_type": "code",
   "execution_count": 14,
   "metadata": {},
   "outputs": [
    {
     "name": "stdout",
     "output_type": "stream",
     "text": [
      "(428, 320)\n"
     ]
    }
   ],
   "source": [
    "img = Image.open('Noise_salt_and_pepper.bmp')\n",
    "arr = cp.array(img)\n",
    "print(arr.shape)"
   ]
  },
  {
   "cell_type": "code",
   "execution_count": 15,
   "metadata": {},
   "outputs": [],
   "source": [
    "class CudaSaltAndPepper:\n",
    "    def __init__(self, matrix_size: tuple, matrix: cp.ndarray, pars: dict):\n",
    "        self.add_kernel = cp.RawKernel(r'''\n",
    "                extern \"C\" \n",
    "                __global__ void saltandpepper(unsigned int* input, unsigned int* output, int width, int height) {\n",
    "                    int x = blockIdx.x * blockDim.x + threadIdx.x;\n",
    "                    int y = blockIdx.y * blockDim.y + threadIdx.y;\n",
    "\n",
    "                    if (x < width && y < height) {\n",
    "                        unsigned int window[9];\n",
    "                        int index = 0;\n",
    "\n",
    "                        for (int i = -1; i <= 1; i++) {\n",
    "                            for (int j = -1; j <= 1; j++) {\n",
    "                                int nx = x + i;\n",
    "                                int ny = y + j;\n",
    "\n",
    "                                if (nx >= 0 && nx < width && ny >= 0 && ny < height) {\n",
    "                                    //printf(\"%u\", input[ny * width + nx]);\n",
    "                                    window[index] = input[ny * width + nx];\n",
    "                                } else {\n",
    "                                    window[index] = 0;\n",
    "                                }\n",
    "\n",
    "                                index++;\n",
    "                            }\n",
    "                        }\n",
    "\n",
    "                        for (int i = 0; i < 9; i++) {\n",
    "                            for (int j = i + 1; j < 9; j++) {\n",
    "                                if (window[i] > window[j]) {\n",
    "                                    unsigned int temp = window[i];\n",
    "                                    window[i] = window[j];\n",
    "                                    window[j] = temp;\n",
    "                                }\n",
    "                            }\n",
    "                        }\n",
    "\n",
    "                        output[y * width + x] = window[4];\n",
    "                    }\n",
    "                }\n",
    "            ''',\n",
    "            \"saltandpepper\")\n",
    "        self.shape = matrix_size\n",
    "        self.matrix = matrix\n",
    "        self.params = pars\n",
    "        self.result = cp.zeros(self.shape, dtype=cp.uint8)\n",
    "\n",
    "    def salt_and_pepper(self):\n",
    "        output = np.zeros(self.shape, dtype=np.uint8)\n",
    "        window = []\n",
    "        for i in range(self.shape[0]):\n",
    "            for j in range(self.shape[1]):\n",
    "                if (i <= 0 or j <= 0 or i >= self.shape[0] - 1 or j >= self.shape[1] - 1):\n",
    "                    continue\n",
    "                #window = [self.matrix[i+x, j+y] for x in range(-1, 2) for y in range(-1, 2)]\n",
    "                window = [\n",
    "                    self.matrix[i-1, j-1],\n",
    "                    self.matrix[i, j-1],\n",
    "                    self.matrix[i+1, j-1],\n",
    "                    self.matrix[i-1, j],\n",
    "                    self.matrix[i, j],\n",
    "                    self.matrix[i+1, j],\n",
    "                    self.matrix[i-1, j+1],\n",
    "                    self.matrix[i, j+1],\n",
    "                    self.matrix[i+1, j+1],\n",
    "                ]\n",
    "                window.sort()\n",
    "                output[i][j] = window[4]\n",
    "                window = []\n",
    "        return output\n",
    "\n",
    "    def get_result(self):\n",
    "        gstart = time.perf_counter()\n",
    "        result_gpu = self.add_kernel((self.params[\"gridX\"], self.params[\"gridY\"]),\n",
    "                                    (self.params[\"blockX\"], self.params[\"blockY\"]),\n",
    "                                    (self.matrix.flatten(), self.result, self.shape[1], self.shape[0]))\n",
    "        gend = time.perf_counter()\n",
    "\n",
    "        scipystart = time.perf_counter()\n",
    "        result_scipy = medfilt2d(self.matrix.get())\n",
    "        scipyend = time.perf_counter()\n",
    "\n",
    "        #cfuncstart = time.perf_counter()\n",
    "        #result_cpu_func = self.salt_and_pepper()\n",
    "        #cfuncend = time.perf_counter()\n",
    "\n",
    "        img_gpu = Image.fromarray(self.result.get())\n",
    "        img_scipy = Image.fromarray(result_scipy)\n",
    "        #img_func = Image.fromarray(result_cpu_func)\n",
    "\n",
    "        img_gpu.save('out_gpu.bmp')\n",
    "        img_scipy.save('out_scipy.bmp')\n",
    "        #img_func.save('out_func.bmp')\n",
    "\n",
    "        return {\n",
    "            \"matrix size\": str(self.shape),\n",
    "            \"parameters\": str(self.params),\n",
    "            \"gpu time\": (gend - gstart),\n",
    "            \"scipy time\": (scipyend - scipystart),\n",
    "            #\"func time\": (cfuncend - cfuncstart),\n",
    "            \"gpu result\": \"![Alt Text](out_gpu.bmp)\",\n",
    "            \"scipy result\": \"![Alt Text](out_scipy.bmp)\",\n",
    "            \"func result\": \"![Alt Text](out_func.bmp)\",\n",
    "        }"
   ]
  },
  {
   "cell_type": "code",
   "execution_count": 16,
   "metadata": {},
   "outputs": [
    {
     "name": "stdout",
     "output_type": "stream",
     "text": [
      "| matrix size   | parameters                                             |   gpu time |   scipy time | gpu result               | scipy result               | func result               |\n",
      "|:--------------|:-------------------------------------------------------|-----------:|-------------:|:-------------------------|:---------------------------|:--------------------------|\n",
      "| (428, 320)    | {'gridX': 32, 'gridY': 32, 'blockX': 16, 'blockY': 16} |  0.0001782 |    0.0091939 | ![Alt Text](out_gpu.bmp) | ![Alt Text](out_scipy.bmp) | ![Alt Text](out_func.bmp) |\n"
     ]
    }
   ],
   "source": [
    "size = arr.shape\n",
    "grid_block = (32, 32, 16, 16)\n",
    "\n",
    "obj = CudaSaltAndPepper(size,\n",
    "                        arr,\n",
    "                        {\n",
    "                            \"gridX\": grid_block[0],\n",
    "                            \"gridY\": grid_block[1],\n",
    "                            \"blockX\": grid_block[2],\n",
    "                            \"blockY\": grid_block[3],\n",
    "                        })\n",
    "\n",
    "result = obj.get_result()\n",
    "\n",
    "df1 = pd.DataFrame(result, index=[0])\n",
    "print(df1.to_markdown(index=False))"
   ]
  }
 ],
 "metadata": {
  "kernelspec": {
   "display_name": "Python 3",
   "language": "python",
   "name": "python3"
  },
  "language_info": {
   "codemirror_mode": {
    "name": "ipython",
    "version": 3
   },
   "file_extension": ".py",
   "mimetype": "text/x-python",
   "name": "python",
   "nbconvert_exporter": "python",
   "pygments_lexer": "ipython3",
   "version": "3.11.1"
  }
 },
 "nbformat": 4,
 "nbformat_minor": 2
}
