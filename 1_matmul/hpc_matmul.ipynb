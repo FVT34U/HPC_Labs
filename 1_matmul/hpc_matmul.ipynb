{
 "cells": [
  {
   "cell_type": "markdown",
   "metadata": {},
   "source": [
    "Импорт необходимых библиотек"
   ]
  },
  {
   "cell_type": "code",
   "execution_count": 1,
   "metadata": {},
   "outputs": [],
   "source": [
    "import cupy as cp\n",
    "import numpy as np\n",
    "import time"
   ]
  },
  {
   "cell_type": "markdown",
   "metadata": {},
   "source": [
    "Ядро вычислений, на С++"
   ]
  },
  {
   "cell_type": "code",
   "execution_count": 2,
   "metadata": {},
   "outputs": [],
   "source": [
    "add_kernel = cp.RawKernel(r'''\n",
    "extern \"C\" __global__\n",
    "void matmul(const float* a, const float* b, float* c, int width) {\n",
    "    int x = blockDim.x * blockIdx.x + threadIdx.x;\n",
    "    int y = blockDim.y * blockIdx.y + threadIdx.y;\n",
    "\n",
    "    float value = 0.0, elem1 = 0.0, elem2 = 0.0;\n",
    "    \n",
    "    for(int i = 0; i < width; i++)\n",
    "\t{\n",
    "\t\telem1 = a[y * width + i];\n",
    "\t\telem2 = b[i * width + x];\n",
    "\t\t\n",
    "\t\tvalue += elem1 * elem2;\n",
    "\t}\n",
    "                      \n",
    "    c[y * width + x] = value;\n",
    "}\n",
    "''',\n",
    "\"matmul\")"
   ]
  },
  {
   "cell_type": "markdown",
   "metadata": {},
   "source": [
    "Задаваемые значения"
   ]
  },
  {
   "cell_type": "code",
   "execution_count": 3,
   "metadata": {},
   "outputs": [],
   "source": [
    "p = 2000\n",
    "q = 2000\n",
    "N = 4000000"
   ]
  },
  {
   "cell_type": "markdown",
   "metadata": {},
   "source": [
    "Матрицы для вычисления на GPU, значения 0 -> N-1"
   ]
  },
  {
   "cell_type": "code",
   "execution_count": 4,
   "metadata": {},
   "outputs": [],
   "source": [
    "a = cp.arange(N, dtype=cp.float32).reshape(p,q)\n",
    "b = cp.arange(N, dtype=cp.float32).reshape(p,q)\n",
    "res = cp.zeros((p,q), dtype=cp.float32)\n",
    "width = p"
   ]
  },
  {
   "cell_type": "markdown",
   "metadata": {},
   "source": [
    "Матрицы для вычисления на GPU, значения 1"
   ]
  },
  {
   "cell_type": "code",
   "execution_count": 5,
   "metadata": {},
   "outputs": [],
   "source": [
    "a = cp.ones((p,q), dtype=cp.float32)\n",
    "b = cp.ones((p,q), dtype=cp.float32)\n",
    "res = cp.zeros((p,q), dtype=cp.float32)\n",
    "width = p"
   ]
  },
  {
   "cell_type": "markdown",
   "metadata": {},
   "source": [
    "Вычисления на GPU, подсчёт скорости вычислений"
   ]
  },
  {
   "cell_type": "code",
   "execution_count": 6,
   "metadata": {},
   "outputs": [
    {
     "name": "stdout",
     "output_type": "stream",
     "text": [
      "0.006152200046926737\n"
     ]
    }
   ],
   "source": [
    "gstart = time.perf_counter()\n",
    "result = add_kernel((200, 200), (10, 10), (a, b, res, width))\n",
    "gend = time.perf_counter()\n",
    "\n",
    "print(gend - gstart)"
   ]
  },
  {
   "cell_type": "markdown",
   "metadata": {},
   "source": [
    "Выполнение матричного умножения на CPU, подсчёт скорости вычислений"
   ]
  },
  {
   "cell_type": "code",
   "execution_count": 7,
   "metadata": {},
   "outputs": [
    {
     "ename": "KeyboardInterrupt",
     "evalue": "",
     "output_type": "error",
     "traceback": [
      "\u001b[1;31m---------------------------------------------------------------------------\u001b[0m",
      "\u001b[1;31mKeyboardInterrupt\u001b[0m                         Traceback (most recent call last)",
      "\u001b[1;32me:\\University\\Maga\\1 semak\\HPC_Labs\\1_matmul\\hpc_matmul.ipynb Ячейка 14\u001b[0m line \u001b[0;36m1\n\u001b[0;32m     <a href='vscode-notebook-cell:/e%3A/University/Maga/1%20semak/HPC_Labs/1_matmul/hpc_matmul.ipynb#X16sZmlsZQ%3D%3D?line=12'>13</a>\u001b[0m z \u001b[39m=\u001b[39m \u001b[39m1000\u001b[39m\n\u001b[0;32m     <a href='vscode-notebook-cell:/e%3A/University/Maga/1%20semak/HPC_Labs/1_matmul/hpc_matmul.ipynb#X16sZmlsZQ%3D%3D?line=14'>15</a>\u001b[0m cstart \u001b[39m=\u001b[39m time\u001b[39m.\u001b[39mperf_counter()\n\u001b[1;32m---> <a href='vscode-notebook-cell:/e%3A/University/Maga/1%20semak/HPC_Labs/1_matmul/hpc_matmul.ipynb#X16sZmlsZQ%3D%3D?line=15'>16</a>\u001b[0m cpu_matmul(x, y, z)\n\u001b[0;32m     <a href='vscode-notebook-cell:/e%3A/University/Maga/1%20semak/HPC_Labs/1_matmul/hpc_matmul.ipynb#X16sZmlsZQ%3D%3D?line=16'>17</a>\u001b[0m cend \u001b[39m=\u001b[39m time\u001b[39m.\u001b[39mperf_counter()\n\u001b[0;32m     <a href='vscode-notebook-cell:/e%3A/University/Maga/1%20semak/HPC_Labs/1_matmul/hpc_matmul.ipynb#X16sZmlsZQ%3D%3D?line=18'>19</a>\u001b[0m \u001b[39mprint\u001b[39m(cend\u001b[39m-\u001b[39mcstart)\n",
      "\u001b[1;32me:\\University\\Maga\\1 semak\\HPC_Labs\\1_matmul\\hpc_matmul.ipynb Ячейка 14\u001b[0m line \u001b[0;36m7\n\u001b[0;32m      <a href='vscode-notebook-cell:/e%3A/University/Maga/1%20semak/HPC_Labs/1_matmul/hpc_matmul.ipynb#X16sZmlsZQ%3D%3D?line=4'>5</a>\u001b[0m         c[i, j] \u001b[39m=\u001b[39m \u001b[39m0\u001b[39m\n\u001b[0;32m      <a href='vscode-notebook-cell:/e%3A/University/Maga/1%20semak/HPC_Labs/1_matmul/hpc_matmul.ipynb#X16sZmlsZQ%3D%3D?line=5'>6</a>\u001b[0m         \u001b[39mfor\u001b[39;00m k \u001b[39min\u001b[39;00m \u001b[39mrange\u001b[39m(n):\n\u001b[1;32m----> <a href='vscode-notebook-cell:/e%3A/University/Maga/1%20semak/HPC_Labs/1_matmul/hpc_matmul.ipynb#X16sZmlsZQ%3D%3D?line=6'>7</a>\u001b[0m             c[i, j] \u001b[39m+\u001b[39m\u001b[39m=\u001b[39m a[i, j]\u001b[39m*\u001b[39mb[i, j]\n\u001b[0;32m      <a href='vscode-notebook-cell:/e%3A/University/Maga/1%20semak/HPC_Labs/1_matmul/hpc_matmul.ipynb#X16sZmlsZQ%3D%3D?line=7'>8</a>\u001b[0m \u001b[39mreturn\u001b[39;00m c\n",
      "\u001b[1;31mKeyboardInterrupt\u001b[0m: "
     ]
    }
   ],
   "source": [
    "def cpu_matmul(a, b, n):\n",
    "    c = np.zeros((n, n))\n",
    "    for i in range(n):\n",
    "        for j in range(n):\n",
    "            c[i, j] = 0\n",
    "            for k in range(n):\n",
    "                c[i, j] += a[i, j]*b[i, j]\n",
    "    return c\n",
    "\n",
    "\n",
    "x = np.arange(1000000, dtype=np.float32).reshape(1000,1000)\n",
    "y = np.arange(1000000, dtype=np.float32).reshape(1000,1000)\n",
    "z = 1000\n",
    "\n",
    "cstart = time.perf_counter()\n",
    "cpu_matmul(x, y, z)\n",
    "cend = time.perf_counter()\n",
    "\n",
    "print(cend-cstart)"
   ]
  }
 ],
 "metadata": {
  "kernelspec": {
   "display_name": "Python 3",
   "language": "python",
   "name": "python3"
  },
  "language_info": {
   "codemirror_mode": {
    "name": "ipython",
    "version": 3
   },
   "file_extension": ".py",
   "mimetype": "text/x-python",
   "name": "python",
   "nbconvert_exporter": "python",
   "pygments_lexer": "ipython3",
   "version": "3.11.1"
  }
 },
 "nbformat": 4,
 "nbformat_minor": 2
}
