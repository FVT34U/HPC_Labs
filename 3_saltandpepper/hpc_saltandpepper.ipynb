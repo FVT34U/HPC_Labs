{
 "cells": [
  {
   "cell_type": "code",
   "execution_count": 137,
   "metadata": {},
   "outputs": [],
   "source": [
    "import numpy as np\n",
    "from PIL import Image\n",
    "import cupy as cp\n",
    "import time\n",
    "import pandas as pd\n",
    "from scipy.signal import medfilt2d"
   ]
  },
  {
   "cell_type": "code",
   "execution_count": 138,
   "metadata": {},
   "outputs": [
    {
     "name": "stdout",
     "output_type": "stream",
     "text": [
      "(428, 320)\n"
     ]
    }
   ],
   "source": [
    "img = Image.open('Noise_salt_and_pepper.bmp')\n",
    "arr = cp.array(img)\n",
    "print(arr.shape)"
   ]
  },
  {
   "cell_type": "code",
   "execution_count": 139,
   "metadata": {},
   "outputs": [],
   "source": [
    "class CudaSaltAndPepper:\n",
    "    def __init__(self, matrix_size: tuple, matrix: cp.ndarray, pars: dict):\n",
    "        self.add_kernel = cp.RawKernel(r'''\n",
    "                extern \"C\" \n",
    "                __global__ void saltandpepper(unsigned char* input, unsigned char* output, int width, int height) {\n",
    "                    int x = blockIdx.x * blockDim.x + threadIdx.x;\n",
    "                    int y = blockIdx.y * blockDim.y + threadIdx.y;\n",
    "\n",
    "                    if (x < width && y < height) {\n",
    "                        unsigned char window[9];\n",
    "                        int index = 0;\n",
    "\n",
    "                        for (int i = -1; i <= 1; i++) {\n",
    "                            for (int j = -1; j <= 1; j++) {\n",
    "                                int nx = x + i;\n",
    "                                int ny = y + j;\n",
    "\n",
    "                                if (nx >= 0 && nx < width && ny >= 0 && ny < height) {\n",
    "                                    //printf(\"%u\", input[ny * width + nx]);\n",
    "                                    window[index] = input[ny * width + nx];\n",
    "                                } else {\n",
    "                                    window[index] = 0;\n",
    "                                }\n",
    "\n",
    "                                index++;\n",
    "                            }\n",
    "                        }\n",
    "\n",
    "                        for (int i = 0; i < 9; i++) {\n",
    "                            for (int j = i + 1; j < 9; j++) {\n",
    "                                if (window[i] > window[j]) {\n",
    "                                    unsigned char temp = window[i];\n",
    "                                    window[i] = window[j];\n",
    "                                    window[j] = temp;\n",
    "                                }\n",
    "                            }\n",
    "                        }\n",
    "\n",
    "                        output[y * width + x] = window[4];\n",
    "                    }\n",
    "                }\n",
    "            ''',\n",
    "            \"saltandpepper\")\n",
    "        self.shape = matrix_size\n",
    "        self.matrix = cp.asarray(matrix.flatten())\n",
    "        self.matrix_scipy = cp.asarray(matrix)\n",
    "        self.matrix_func = cp.asarray(matrix)\n",
    "        self.params = pars\n",
    "        self.result = cp.zeros((self.shape[0] * self.shape[1]), dtype=cp.uint8)\n",
    "\n",
    "    def salt_and_pepper(self):\n",
    "        output = np.zeros(self.shape, dtype=np.uint8)\n",
    "        window = []\n",
    "        for i in range(self.shape[0]):\n",
    "            for j in range(self.shape[1]):\n",
    "                if (i <= 0 or j <= 0 or i >= self.shape[0] - 1 or j >= self.shape[1] - 1):\n",
    "                    continue\n",
    "                window = [self.matrix_func[i+x, j+y] for x in range(-1, 2) for y in range(-1, 2)]\n",
    "                '''window = [\n",
    "                    self.matrix_func[i-1, j-1],\n",
    "                    self.matrix_func[i, j-1],\n",
    "                    self.matrix_func[i+1, j-1],\n",
    "                    self.matrix_func[i-1, j],\n",
    "                    self.matrix_func[i, j],\n",
    "                    self.matrix_func[i+1, j],\n",
    "                    self.matrix_func[i-1, j+1],\n",
    "                    self.matrix_func[i, j+1],\n",
    "                    self.matrix_func[i+1, j+1],\n",
    "                ]'''\n",
    "                window.sort()\n",
    "                output[i][j] = window[4]\n",
    "                window = []\n",
    "        return output\n",
    "\n",
    "    def get_result(self):\n",
    "        gstart = time.perf_counter()\n",
    "        result_gpu = self.add_kernel((self.params[\"blockX\"], self.params[\"blockY\"]),\n",
    "                                    (self.params[\"gridX\"], self.params[\"gridY\"]),\n",
    "                                    (self.matrix, self.result,\n",
    "                                    self.shape[1], self.shape[0]))\n",
    "        gend = time.perf_counter()\n",
    "\n",
    "        scipystart = time.perf_counter()\n",
    "        result_scipy = medfilt2d(self.matrix_scipy.get(), kernel_size=3)\n",
    "        scipyend = time.perf_counter()\n",
    "\n",
    "        cfuncstart = time.perf_counter()\n",
    "        result_cpu_func = self.salt_and_pepper()\n",
    "        cfuncend = time.perf_counter()\n",
    "\n",
    "        img_gpu = Image.fromarray(self.result.get().reshape(self.shape))\n",
    "        img_scipy = Image.fromarray(result_scipy)\n",
    "        img_func = Image.fromarray(result_cpu_func)\n",
    "\n",
    "        img_gpu.save('out_gpu.bmp')\n",
    "        img_scipy.save('out_scipy.bmp')\n",
    "        img_func.save('out_func.bmp')\n",
    "\n",
    "        return {\n",
    "            \"matrix size\": str(self.shape),\n",
    "            \"parameters\": str(self.params),\n",
    "            \"gpu time\": (gend - gstart),\n",
    "            \"scipy time\": (scipyend - scipystart),\n",
    "            \"func time\": (cfuncend - cfuncstart),\n",
    "            \"gpu result\": \"![Alt Text](out_gpu.bmp)\",\n",
    "            \"scipy result\": \"![Alt Text](out_scipy.bmp)\",\n",
    "            \"func result\": \"![Alt Text](out_func.bmp)\",\n",
    "        }"
   ]
  },
  {
   "cell_type": "code",
   "execution_count": 140,
   "metadata": {},
   "outputs": [
    {
     "name": "stdout",
     "output_type": "stream",
     "text": [
      "| matrix size   | parameters                                             |    gpu time |   scipy time |   func time | gpu result               | scipy result               | func result               |\n",
      "|:--------------|:-------------------------------------------------------|------------:|-------------:|------------:|:-------------------------|:---------------------------|:--------------------------|\n",
      "| (428, 320)    | {'blockX': 32, 'blockY': 32, 'gridX': 11, 'gridY': 14} | 5.67001e-05 |    0.0090728 |      195.43 | ![Alt Text](out_gpu.bmp) | ![Alt Text](out_scipy.bmp) | ![Alt Text](out_func.bmp) |\n"
     ]
    }
   ],
   "source": [
    "size = arr.shape\n",
    "block = (32, 32)\n",
    "grid = (round((size[1] + block[0] - 1) / block[0]), round((size[0] + block[1] - 1) / block[1]))\n",
    "\n",
    "obj = CudaSaltAndPepper(size,\n",
    "                        arr,\n",
    "                        {\n",
    "                            \"blockX\": block[0],\n",
    "                            \"blockY\": block[1],\n",
    "                            \"gridX\": grid[0],\n",
    "                            \"gridY\": grid[1],\n",
    "                        })\n",
    "\n",
    "result = obj.get_result()\n",
    "\n",
    "df1 = pd.DataFrame(result, index=[0])\n",
    "print(df1.to_markdown(index=False))"
   ]
  },
  {
   "cell_type": "code",
   "execution_count": 142,
   "metadata": {},
   "outputs": [
    {
     "name": "stdout",
     "output_type": "stream",
     "text": [
      "|   gpu vs func |   gpu vs scipy |\n",
      "|--------------:|---------------:|\n",
      "|   3.44673e+06 |         160.01 |\n"
     ]
    }
   ],
   "source": [
    "res = pd.DataFrame({\n",
    "    \"gpu vs func\":  (df1[\"func time\"] / df1[\"gpu time\"]).apply('{:.2f}'.format),\n",
    "    \"gpu vs scipy\": (df1[\"scipy time\"] / df1[\"gpu time\"]).apply('{:.2f}'.format),\n",
    "})\n",
    "print(res.to_markdown(index=False))"
   ]
  }
 ],
 "metadata": {
  "kernelspec": {
   "display_name": "Python 3",
   "language": "python",
   "name": "python3"
  },
  "language_info": {
   "codemirror_mode": {
    "name": "ipython",
    "version": 3
   },
   "file_extension": ".py",
   "mimetype": "text/x-python",
   "name": "python",
   "nbconvert_exporter": "python",
   "pygments_lexer": "ipython3",
   "version": "3.11.1"
  }
 },
 "nbformat": 4,
 "nbformat_minor": 2
}
