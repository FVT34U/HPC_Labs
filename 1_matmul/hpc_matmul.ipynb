{
 "cells": [
  {
   "cell_type": "markdown",
   "metadata": {},
   "source": [
    "Импорт необходимых библиотек"
   ]
  },
  {
   "cell_type": "code",
   "execution_count": 1,
   "metadata": {},
   "outputs": [],
   "source": [
    "import cupy as cp\n",
    "import numpy as np\n",
    "import time"
   ]
  },
  {
   "cell_type": "markdown",
   "metadata": {},
   "source": [
    "Ядро вычислений, на С++"
   ]
  },
  {
   "cell_type": "code",
   "execution_count": 2,
   "metadata": {},
   "outputs": [],
   "source": [
    "add_kernel = cp.RawKernel(r'''\n",
    "extern \"C\" __global__\n",
    "void matmul(const float* a, const float* b, float* c, int width) {\n",
    "    int x = blockDim.x * blockIdx.x + threadIdx.x;\n",
    "    int y = blockDim.y * blockIdx.y + threadIdx.y;\n",
    "\n",
    "    float value = 0.0, elem1 = 0.0, elem2 = 0.0;\n",
    "    \n",
    "    for(int i = 0; i < width; i++)\n",
    "\t{\n",
    "\t\telem1 = a[y * width + i];\n",
    "\t\telem2 = b[i * width + x];\n",
    "\t\t\n",
    "\t\tvalue += elem1 * elem2;\n",
    "\t}\n",
    "                      \n",
    "    c[y * width + x] = value;\n",
    "}\n",
    "''',\n",
    "\"matmul\")"
   ]
  },
  {
   "cell_type": "markdown",
   "metadata": {},
   "source": [
    "Задаваемые значения"
   ]
  },
  {
   "cell_type": "code",
   "execution_count": 13,
   "metadata": {},
   "outputs": [],
   "source": [
    "p = 10000\n",
    "q = 10000\n",
    "N = 100000000"
   ]
  },
  {
   "cell_type": "markdown",
   "metadata": {},
   "source": [
    "Матрицы для вычисления на GPU, значения 0 -> N-1"
   ]
  },
  {
   "cell_type": "code",
   "execution_count": 14,
   "metadata": {},
   "outputs": [],
   "source": [
    "a = cp.arange(N, dtype=cp.float32).reshape(p,q)\n",
    "b = cp.arange(N, dtype=cp.float32).reshape(p,q)\n",
    "res = cp.zeros((p,q), dtype=cp.float32)\n",
    "width = p"
   ]
  },
  {
   "cell_type": "markdown",
   "metadata": {},
   "source": [
    "Матрицы для вычисления на GPU, значения 1"
   ]
  },
  {
   "cell_type": "code",
   "execution_count": 113,
   "metadata": {},
   "outputs": [],
   "source": [
    "a = cp.ones((p,q), dtype=cp.float32)\n",
    "b = cp.ones((p,q), dtype=cp.float32)\n",
    "res = cp.zeros((p,q), dtype=cp.float32)\n",
    "width = p"
   ]
  },
  {
   "cell_type": "markdown",
   "metadata": {},
   "source": [
    "Вычисления на GPU, подсчёт скорости вычислений"
   ]
  },
  {
   "cell_type": "code",
   "execution_count": 17,
   "metadata": {},
   "outputs": [
    {
     "name": "stdout",
     "output_type": "stream",
     "text": [
      "0.00019489997066557407\n"
     ]
    }
   ],
   "source": [
    "gstart = time.perf_counter()\n",
    "result = add_kernel((1000, 1000), (10, 10), (a, b, res, width))\n",
    "gend = time.perf_counter()\n",
    "\n",
    "print(gend - gstart)"
   ]
  },
  {
   "cell_type": "markdown",
   "metadata": {},
   "source": [
    "Выполнение матричного умножения на CPU, подсчёт скорости вычислений"
   ]
  },
  {
   "cell_type": "code",
   "execution_count": 21,
   "metadata": {},
   "outputs": [
    {
     "name": "stdout",
     "output_type": "stream",
     "text": [
      "0.010938400053419173\n"
     ]
    }
   ],
   "source": [
    "def cpu_matmul(a, b, n):\n",
    "    c = np.zeros((n, n))\n",
    "    for i in range(n):\n",
    "        for j in range(n):\n",
    "            c[i, j] = 0\n",
    "            for k in range(n):\n",
    "                c[i, j] += a[i, j]*b[i, j]\n",
    "    return c\n",
    "\n",
    "\n",
    "x = np.arange(900, dtype=np.float32).reshape(30,30)\n",
    "y = np.arange(900, dtype=np.float32).reshape(30,30)\n",
    "z = 30\n",
    "\n",
    "cstart = time.perf_counter()\n",
    "cpu_matmul(x, y, z)\n",
    "cend = time.perf_counter()\n",
    "\n",
    "print(cend-cstart)"
   ]
  }
 ],
 "metadata": {
  "kernelspec": {
   "display_name": "Python 3",
   "language": "python",
   "name": "python3"
  },
  "language_info": {
   "codemirror_mode": {
    "name": "ipython",
    "version": 3
   },
   "file_extension": ".py",
   "mimetype": "text/x-python",
   "name": "python",
   "nbconvert_exporter": "python",
   "pygments_lexer": "ipython3",
   "version": "3.11.1"
  }
 },
 "nbformat": 4,
 "nbformat_minor": 2
}
