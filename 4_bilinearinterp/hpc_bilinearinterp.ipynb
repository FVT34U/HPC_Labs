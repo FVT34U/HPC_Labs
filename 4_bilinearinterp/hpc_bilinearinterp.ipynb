{
 "cells": [
  {
   "cell_type": "code",
   "execution_count": 9,
   "metadata": {},
   "outputs": [],
   "source": [
    "import numpy as np\n",
    "from PIL import Image\n",
    "import cupy as cp\n",
    "import time\n",
    "import pandas as pd\n",
    "from scipy.interpolate import RegularGridInterpolator"
   ]
  },
  {
   "cell_type": "code",
   "execution_count": 10,
   "metadata": {},
   "outputs": [
    {
     "name": "stdout",
     "output_type": "stream",
     "text": [
      "(3128, 4000)\n"
     ]
    }
   ],
   "source": [
    "img = Image.open('ris.bmp')\n",
    "arr = cp.array(img)\n",
    "print(arr.shape)"
   ]
  },
  {
   "cell_type": "code",
   "execution_count": 11,
   "metadata": {},
   "outputs": [],
   "source": [
    "class CUDABilinearInterp:\n",
    "    def __init__(self, shape: tuple, matrix: cp.ndarray, params: dict):\n",
    "        self.add_kernel = cp.RawKernel(r'''\n",
    "        extern \"C\"\n",
    "        __global__ void bilinearInterp(unsigned char* input, double* output, int width, int height)\n",
    "        {\n",
    "            double x = (blockIdx.x * blockDim.x + threadIdx.x) / 2;\n",
    "            double y = (blockIdx.y * blockDim.y + threadIdx.y) / 2;\n",
    "\n",
    "            if (x < (width * 2) && y < (height * 2))\n",
    "            {\n",
    "                int px = floor(x);\n",
    "                int py = floor(y);\n",
    "                \n",
    "                double fx = x - px;\n",
    "                double fy = y - py;\n",
    "                double fx1 = 1.0f - fx;\n",
    "                double fy1 = 1.0f - fy;\n",
    "\n",
    "                double result = input[(int)(py * width + px)] * fx1 * fy1 +\n",
    "                            input[(int)(py * width + (px + 1))] * fx * fy1 +\n",
    "                            input[(int)((py + 1) * width + px)] * fx1 * fy +\n",
    "                            input[(int)((py + 1) * width + (px + 1))] * fx * fy;\n",
    "\n",
    "                output[(blockIdx.y * blockDim.y + threadIdx.y) * (width * 2) + (blockIdx.x * blockDim.x + threadIdx.x)] = result;\n",
    "            }\n",
    "        }\n",
    "        ''',\n",
    "        \"bilinearInterp\")\n",
    "        self.matrix = matrix\n",
    "        self.flattened_matrix = cp.array(matrix.flatten())\n",
    "        self.shape = shape\n",
    "        self.params = params\n",
    "        self.result = cp.zeros((self.shape[0] * self.shape[1] * 2 * 2), dtype=cp.float64)\n",
    "\n",
    "    def bilinear_interp(self):\n",
    "        x = np.arange(0, self.shape[1])\n",
    "        y = np.arange(0, self.shape[0])\n",
    "\n",
    "        new_x = np.linspace(0, self.shape[1]-1, int(self.shape[1] * 2), endpoint=False)\n",
    "        new_y = np.linspace(0, self.shape[0]-1, int(self.shape[0] * 2), endpoint=False)\n",
    "\n",
    "        interpolating_function = RegularGridInterpolator((y, x), cp.array(self.matrix).get(), method='linear')\n",
    "\n",
    "        points = np.meshgrid(new_y, new_x, indexing='ij')\n",
    "        points = np.stack(points, axis=-1)\n",
    "\n",
    "        new_image = interpolating_function(points)\n",
    "\n",
    "        return new_image\n",
    "\n",
    "    def get_result(self):\n",
    "        scipystart = time.perf_counter()\n",
    "        result_scipy = self.bilinear_interp()\n",
    "        scipyend = time.perf_counter()\n",
    "\n",
    "        gstart = time.perf_counter()\n",
    "        result_gpu = self.add_kernel((self.params[\"blockX\"], self.params[\"blockY\"]),\n",
    "                                    (self.params[\"gridX\"], self.params[\"gridY\"]),\n",
    "                                    (self.flattened_matrix, self.result,\n",
    "                                    self.shape[1], self.shape[0]))\n",
    "        gend = time.perf_counter()\n",
    "\n",
    "        img_gpu = Image.fromarray(self.result.get().reshape((self.shape[0] * 2, self.shape[1] * 2)))\n",
    "        img_scipy = Image.fromarray(result_scipy)\n",
    "        img_gpu = img_gpu.convert(\"RGB\")\n",
    "        img_scipy = img_scipy.convert(\"RGB\")\n",
    "\n",
    "        img_gpu.save('out_gpu.bmp')\n",
    "        img_scipy.save('out_scipy.bmp')\n",
    "\n",
    "        return {\n",
    "            \"matrix size\": str(self.shape),\n",
    "            \"parameters\": str(self.params),\n",
    "            \"gpu time\": (gend - gstart),\n",
    "            \"scipy time\": (scipyend - scipystart),\n",
    "            \"gpu result\": \"![Alt Text](out_gpu.bmp)\",\n",
    "            \"scipy result\": \"![Alt Text](out_scipy.bmp)\",\n",
    "        }\n"
   ]
  },
  {
   "cell_type": "code",
   "execution_count": 12,
   "metadata": {},
   "outputs": [
    {
     "name": "stdout",
     "output_type": "stream",
     "text": [
      "| matrix size   | parameters                                               |   gpu time |   scipy time | gpu result               | scipy result               |\n",
      "|:--------------|:---------------------------------------------------------|-----------:|-------------:|:-------------------------|:---------------------------|\n",
      "| (3128, 4000)  | {'blockX': 1024, 'blockY': 1024, 'gridX': 8, 'gridY': 8} |  0.0001077 |      2.41205 | ![Alt Text](out_gpu.bmp) | ![Alt Text](out_scipy.bmp) |\n"
     ]
    }
   ],
   "source": [
    "size = arr.shape\n",
    "block = (1024, 1024)\n",
    "#grid = (round((size[1] + block[0] - 1) / block[0]), round((size[0] + block[1] - 1) / block[1]))\n",
    "grid = (8, 8)\n",
    "\n",
    "obj = CUDABilinearInterp(size,\n",
    "                        arr,\n",
    "                        {\n",
    "                            \"blockX\": block[0],\n",
    "                            \"blockY\": block[1],\n",
    "                            \"gridX\": grid[0],\n",
    "                            \"gridY\": grid[1],\n",
    "                        })\n",
    "\n",
    "result = obj.get_result()\n",
    "\n",
    "df1 = pd.DataFrame(result, index=[0])\n",
    "print(df1.to_markdown(index=False))"
   ]
  }
 ],
 "metadata": {
  "kernelspec": {
   "display_name": "Python 3",
   "language": "python",
   "name": "python3"
  },
  "language_info": {
   "codemirror_mode": {
    "name": "ipython",
    "version": 3
   },
   "file_extension": ".py",
   "mimetype": "text/x-python",
   "name": "python",
   "nbconvert_exporter": "python",
   "pygments_lexer": "ipython3",
   "version": "3.11.1"
  }
 },
 "nbformat": 4,
 "nbformat_minor": 2
}
